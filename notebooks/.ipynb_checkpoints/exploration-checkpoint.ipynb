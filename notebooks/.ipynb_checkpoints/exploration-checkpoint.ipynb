{
 "cells": [
  {
   "cell_type": "code",
   "execution_count": 1,
   "metadata": {},
   "outputs": [],
   "source": [
    "import PIL"
   ]
  },
  {
   "cell_type": "code",
   "execution_count": 2,
   "metadata": {},
   "outputs": [],
   "source": [
    "import cv2"
   ]
  },
  {
   "cell_type": "code",
   "execution_count": 3,
   "metadata": {},
   "outputs": [],
   "source": [
    "image = cv2.imread(f'../skin-lesions/train/melanoma/ISIC_0000002.jpg', cv2.IMREAD_COLOR)"
   ]
  },
  {
   "cell_type": "code",
   "execution_count": 4,
   "metadata": {},
   "outputs": [
    {
     "data": {
      "text/plain": [
       "array([[[255, 255, 255],\n",
       "        [239, 239, 239],\n",
       "        [255, 255, 255],\n",
       "        ...,\n",
       "        [255, 255, 255],\n",
       "        [246, 246, 246],\n",
       "        [255, 255, 255]],\n",
       "\n",
       "       [[230, 230, 230],\n",
       "        [ 41,  41,  41],\n",
       "        [ 11,  11,  11],\n",
       "        ...,\n",
       "        [  6,   6,   6],\n",
       "        [ 22,  22,  22],\n",
       "        [227, 227, 227]],\n",
       "\n",
       "       [[255, 255, 255],\n",
       "        [  0,   0,   0],\n",
       "        [  0,   0,   0],\n",
       "        ...,\n",
       "        [  0,   0,   0],\n",
       "        [  0,   0,   0],\n",
       "        [255, 255, 255]],\n",
       "\n",
       "       ...,\n",
       "\n",
       "       [[255, 255, 255],\n",
       "        [ 29,  27,  27],\n",
       "        [  6,   4,   4],\n",
       "        ...,\n",
       "        [ 23,  20,  15],\n",
       "        [  9,   8,   4],\n",
       "        [255, 255, 252]],\n",
       "\n",
       "       [[233, 231, 231],\n",
       "        [ 41,  39,  39],\n",
       "        [  2,   0,   0],\n",
       "        ...,\n",
       "        [ 24,  24,  18],\n",
       "        [ 21,  25,  20],\n",
       "        [234, 238, 233]],\n",
       "\n",
       "       [[255, 255, 255],\n",
       "        [243, 241, 241],\n",
       "        [255, 255, 255],\n",
       "        ...,\n",
       "        [255, 255, 251],\n",
       "        [234, 238, 232],\n",
       "        [251, 255, 251]]], dtype=uint8)"
      ]
     },
     "execution_count": 4,
     "metadata": {},
     "output_type": "execute_result"
    }
   ],
   "source": [
    "image"
   ]
  },
  {
   "cell_type": "code",
   "execution_count": null,
   "metadata": {},
   "outputs": [],
   "source": []
  }
 ],
 "metadata": {
  "kernelspec": {
   "display_name": "Python 3",
   "language": "python",
   "name": "python3"
  },
  "language_info": {
   "codemirror_mode": {
    "name": "ipython",
    "version": 3
   },
   "file_extension": ".py",
   "mimetype": "text/x-python",
   "name": "python",
   "nbconvert_exporter": "python",
   "pygments_lexer": "ipython3",
   "version": "3.7.7"
  }
 },
 "nbformat": 4,
 "nbformat_minor": 4
}
